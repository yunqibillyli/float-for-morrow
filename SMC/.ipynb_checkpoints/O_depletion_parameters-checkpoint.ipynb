{
 "cells": [
  {
   "cell_type": "code",
   "execution_count": 23,
   "id": "3670fcc9-b61f-4bb5-9027-d03b2aa4e716",
   "metadata": {},
   "outputs": [],
   "source": [
    "import numpy as np\n",
    "import matplotlib as mpl\n",
    "import matplotlib.pyplot as plt\n",
    "\n",
    "from scipy import odr"
   ]
  },
  {
   "cell_type": "code",
   "execution_count": 24,
   "id": "61287ac5-448a-40ea-9a84-0a91c1c5bfb7",
   "metadata": {},
   "outputs": [],
   "source": [
    "OI_H_SMC = 8.14 # this is okay cause we are always using photospheric abundances\n",
    "sigma_OI_H_SMC = 0.08"
   ]
  },
  {
   "cell_type": "code",
   "execution_count": 25,
   "id": "ceb9ab78-78aa-4d31-a71b-7d8803100479",
   "metadata": {},
   "outputs": [
    {
     "name": "stdout",
     "output_type": "stream",
     "text": [
      "[8.96939983 8.80039983 8.57139983 8.33999662 8.48252294]\n"
     ]
    }
   ],
   "source": [
    "N_OI_array = np.array([18.018, 18.409, 17.9, 17.837, 18.063]) # np.array([18.018, 18.409, 17.9, 17.721, 17.837, 18.063]) # AV220, NGC330-A02, NGC346-487, no SK191, AV95, AV15\n",
    "N_HI_array = np.array([21.04, 21.60, 21.32, 21.49, 21.58]) # np.array([21.04, 21.60, 21.32, 21.51, 21.49, 21.58])\n",
    "N_H2_array = np.array([19.04, 19.60, 19.32, 19.40, 18.32]) # Used cloudy for AV220, NGC330-A02, and NGC346-487\n",
    "\n",
    "N_H_tot_array = np.log10(10 ** N_HI_array + 2 * 10 ** N_H2_array)\n",
    "sigma_OI_array = np.array([0.127, 0.050, 0.144, 0.249, 0.106]) # np.array([0.127, 0.050, 0.144, 0.145, 0.249, 0.106])\n",
    "OI_H_array = N_OI_array - N_H_tot_array + 12\n",
    "depletion_OI_array = OI_H_array - OI_H_SMC \n",
    "sigma_depletion_OI_array  = np.sqrt(sigma_OI_array ** 2 + sigma_OI_H_SMC ** 2)\n",
    "\n",
    "print(OI_H_array)"
   ]
  },
  {
   "cell_type": "code",
   "execution_count": 26,
   "id": "98968d8f-ee74-4311-aa6a-415a18af2a06",
   "metadata": {},
   "outputs": [],
   "source": [
    "F_star_array = np.array([-0.087, 0.080, 0.238, 0.152, 0.162]) # np.array([-0.087, 0.080, 0.238, 0.839, 0.152, 0.162])\n",
    "sigma_F_star_array = np.array([0.088, 0.041, 0.092, 0.048, 0.046]) # np.array([0.088, 0.041, 0.092, 0.075, 0.048, 0.046])"
   ]
  },
  {
   "cell_type": "code",
   "execution_count": 27,
   "id": "2a2f934f-8ccd-447b-8ece-f2255cd2d060",
   "metadata": {},
   "outputs": [],
   "source": [
    "W_star_array = ((depletion_OI_array / F_star_array) * ((sigma_depletion_OI_array / depletion_OI_array) ** 2 + (sigma_F_star_array / F_star_array) ** 2) ** (1 / 2)) ** -2"
   ]
  },
  {
   "cell_type": "code",
   "execution_count": 28,
   "id": "910a09ad-da53-4650-8aa2-cdf781e86a51",
   "metadata": {},
   "outputs": [],
   "source": [
    "A_prime_OI = np.sum(np.divide(np.dot(W_star_array, depletion_OI_array), F_star_array)) / np.sum(W_star_array)\n",
    "sigma_A_prime_OI = np.sum(W_star_array) ** (-1 / 2)"
   ]
  },
  {
   "cell_type": "code",
   "execution_count": 29,
   "id": "f4519435-b507-4450-9464-297eee79266c",
   "metadata": {},
   "outputs": [],
   "source": [
    "W_star_eqn_12_array = (sigma_depletion_OI_array ** 2 + (A_prime_OI * sigma_F_star_array) ** 2) ** -1"
   ]
  },
  {
   "cell_type": "code",
   "execution_count": 30,
   "id": "ef56a730-8452-4b4a-a15f-35833ff20887",
   "metadata": {},
   "outputs": [],
   "source": [
    "z_OI = np.sum(np.dot(W_star_eqn_12_array, F_star_array)) / np.sum(W_star_eqn_12_array)"
   ]
  },
  {
   "cell_type": "code",
   "execution_count": 31,
   "id": "85ce8b65-9dc5-4f96-b2c2-1ea6b428ed81",
   "metadata": {},
   "outputs": [],
   "source": [
    "x  = F_star_array - z_OI\n",
    "y  = depletion_OI_array\n",
    "\n",
    "sx = sigma_F_star_array\n",
    "sy = sigma_depletion_OI_array\n",
    "\n",
    "def lin(beta, x):\n",
    "    return beta[0] * x + beta[1]\n",
    "\n",
    "data = odr.RealData(x, y, sx = sx, sy = sy)\n",
    "model = odr.Model(lin)\n",
    "odr_run = odr.ODR(data, model, beta0 = [-0.2, -0.1]).run()\n",
    "\n",
    "A_OI, B_OI = odr_run.beta\n",
    "sigma_A_OI, sigma_B_OI = odr_run.sd_beta"
   ]
  },
  {
   "cell_type": "code",
   "execution_count": 32,
   "id": "34658ee1-2091-4372-8b09-d0d744c9db54",
   "metadata": {},
   "outputs": [
    {
     "name": "stdout",
     "output_type": "stream",
     "text": [
      "A_OI:  -2.1283303531889852\n",
      "B_OI:  0.5122604636131254\n",
      "sigma_A_OI:  0.8579901073983777\n",
      "sigma_B_OI:  0.06808916678051377\n",
      "z_OI 0.11415093411827476\n"
     ]
    },
    {
     "name": "stderr",
     "output_type": "stream",
     "text": [
      "/var/folders/7n/v6gcxcpj68q6nnv2znnc85xc0000gn/T/ipykernel_4450/2284732645.py:20: UserWarning: cmr10 font should ideally be used with mathtext, set axes.formatter.use_mathtext to True\n",
      "  plt.errorbar(F_star_array, depletion_OI_array, fmt = 'o', markersize = 4, mfc = 'black', mec = 'black', xerr = sigma_F_star_array, yerr = sigma_depletion_OI_array, ecolor = 'black', capsize = 2, linestyle = 'none')\n"
     ]
    },
    {
     "data": {
      "image/png": "[encoded data removed]",
      "text/plain": [
       "<Figure size 300x450 with 1 Axes>"
      ]
     },
     "metadata": {},
     "output_type": "display_data"
    }
   ],
   "source": [
    "print(\"A_OI: \", A_OI)\n",
    "print(\"B_OI: \", B_OI)\n",
    "print(\"sigma_A_OI: \", sigma_A_OI)\n",
    "print(\"sigma_B_OI: \", sigma_B_OI)\n",
    "print(\"z_OI\", z_OI)\n",
    "\n",
    "font = {'family' : 'serif',\n",
    "         'size'   : 12,\n",
    "         'serif':  'cmr10'\n",
    "         }\n",
    "\n",
    "plt.rc('font', **font)\n",
    "plt.rc('axes', unicode_minus = False)\n",
    "\n",
    "x_array = np.arange(-0.5, 2.5)\n",
    "y_array = B_OI + A_OI * (x_array - z_OI)\n",
    "\n",
    "plt.figure(figsize = (3, 4.5))\n",
    "\n",
    "plt.errorbar(F_star_array, depletion_OI_array, fmt = 'o', markersize = 4, mfc = 'black', mec = 'black', xerr = sigma_F_star_array, yerr = sigma_depletion_OI_array, ecolor = 'black', capsize = 2, linestyle = 'none')\n",
    "plt.plot(x_array, y_array, 'k--', linewidth = 1)\n",
    "\n",
    "plt.text(-0.3, -0.2, 'O', fontsize = 22, fontweight = 'bold', family = 'serif')\n",
    "\n",
    "plt.xlabel(r'Depl. Factor ($F_\\star$)')\n",
    "plt.ylabel(r'Obs. Depl. (dex)')\n",
    "\n",
    "plt.tick_params(which = 'both', direction = 'in', top = True, right = True)\n",
    "\n",
    "plt.rc('axes', unicode_minus = False)\n",
    "\n",
    "plt.tight_layout()\n",
    "plt.minorticks_on()\n",
    "plt.grid()\n",
    "\n",
    "plt.show()"
   ]
  },
  {
   "cell_type": "code",
   "execution_count": 33,
   "id": "49b2cf05-7e60-4f72-b557-d443aea24760",
   "metadata": {},
   "outputs": [],
   "source": [
    "# END"
   ]
  }
 ],
 "metadata": {
  "kernelspec": {
   "display_name": "Python 3 (ipykernel)",
   "language": "python",
   "name": "python3"
  },
  "language_info": {
   "codemirror_mode": {
    "name": "ipython",
    "version": 3
   },
   "file_extension": ".py",
   "mimetype": "text/x-python",
   "name": "python",
   "nbconvert_exporter": "python",
   "pygments_lexer": "ipython3",
   "version": "3.13.3"
  }
 },
 "nbformat": 4,
 "nbformat_minor": 5
}
