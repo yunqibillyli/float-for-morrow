{
 "cells": [
  {
   "cell_type": "code",
   "execution_count": 6,
   "id": "ed5b9f3d-4935-4880-a242-11f778e01a61",
   "metadata": {},
   "outputs": [],
   "source": [
    "import numpy as np\n",
    "import matplotlib.pyplot as plt\n",
    "\n",
    "from scipy.stats import norm"
   ]
  },
  {
   "cell_type": "code",
   "execution_count": 7,
   "id": "efbae883-f26b-4d0f-a892-e9e9ccacf90f",
   "metadata": {},
   "outputs": [
    {
     "name": "stdout",
     "output_type": "stream",
     "text": [
      "14.867480314960629 +/- 0.31746031683047515\n"
     ]
    }
   ],
   "source": [
    "means = np.array([15.190, 14.555])\n",
    "stds = np.array([0.080, 0.005])\n",
    "\n",
    "var  = stds ** 2\n",
    "w_FE = 1 / var\n",
    "mu_FE = (w_FE * means).sum() / w_FE.sum()\n",
    "\n",
    "Q  = (w_FE * (means - mu_FE) ** 2).sum()\n",
    "df = len(means) - 1\n",
    "c  = w_FE.sum() - (w_FE ** 2).sum() / w_FE.sum()\n",
    "\n",
    "T_squared = max(0.0, (Q - df) / c)\n",
    "\n",
    "weights = 1 / (var + T_squared)\n",
    "\n",
    "combined_mean = (weights * means).sum() / weights.sum()\n",
    "combined_std  = np.sqrt(1 / weights.sum())\n",
    "\n",
    "print(combined_mean, \"+/-\", combined_std)"
   ]
  },
  {
   "cell_type": "code",
   "execution_count": 8,
   "id": "36075696-8f99-4793-9b49-0ba2797e4576",
   "metadata": {},
   "outputs": [],
   "source": [
    "N_HI = 21.0\n",
    "N_H_2 = 19.0 # assumed\n",
    "N_H = np.log10(10 ** N_HI + 2 * 10 ** N_H_2)\n",
    "\n",
    "N_MgII = 15.526\n",
    "sigma_MgII = 0.088\n",
    "N_SiII = 0\n",
    "sigma_SiII = 0\n",
    "N_PII = 13.568\n",
    "sigma_PII = 0.049\n",
    "N_SII = 15.367\n",
    "sigma_SII = 0.017\n",
    "N_CrII = 0\n",
    "sigma_CrII = 0\n",
    "N_FeII = 15.190\n",
    "sigma_FeII = 0.080\n",
    "N_NiII = 13.414\n",
    "sigma_NiII = 0.048\n",
    "N_ZnII = 0\n",
    "sigma_ZnII = 0\n",
    "N_CuII = 0\n",
    "sigma_CuII = 0"
   ]
  },
  {
   "cell_type": "code",
   "execution_count": 9,
   "id": "77fa335c-058c-46d4-9dde-bc3f585227c8",
   "metadata": {},
   "outputs": [
    {
     "name": "stdout",
     "output_type": "stream",
     "text": [
      "S:  6.358399828238085 +/- 0.017\n",
      "Fe:  6.181399828238083 +/- 0.08\n"
     ]
    }
   ],
   "source": [
    "MgII_H = N_MgII - N_H + 12\n",
    "SiII_H = N_SiII - N_H + 12\n",
    "PII_H = N_PII - N_H + 12\n",
    "SII_H = N_SII - N_H + 12\n",
    "CrII_H = N_CrII - N_H + 12\n",
    "FeII_H = N_FeII - N_H + 12\n",
    "NiII_H = N_NiII - N_H + 12\n",
    "ZnII_H = N_ZnII - N_H + 12\n",
    "CuII_H = N_CuII - N_H + 12\n",
    "if N_SII != 0:\n",
    "    print(\"S: \", SII_H, \"+/-\", sigma_SII)\n",
    "if N_FeII != 0:\n",
    "    print(\"Fe: \", FeII_H, \"+/-\", sigma_FeII)"
   ]
  },
  {
   "cell_type": "code",
   "execution_count": 10,
   "id": "173cc377-fb0e-4c95-8f91-e65064265451",
   "metadata": {},
   "outputs": [],
   "source": [
    "MgII_H_SMC = 6.88\n",
    "sigma_MgII_H_SMC = 0.06\n",
    "SiII_H_SMC = 6.96\n",
    "sigma_SiII_H_SMC = 0.07\n",
    "PII_H_SMC = 4.7\n",
    "sigma_PII_H_SMC = 0.10\n",
    "SII_H_SMC = 6.73 # Asplund+2009 and Chekhonadskikh 2012\n",
    "sigma_SII_H_SMC = 0.14\n",
    "CrII_H_SMC = 4.92\n",
    "sigma_CrII_H_SMC = 0.10\n",
    "FeII_H_SMC = 6.89\n",
    "sigma_FeII_H_SMC = 0.08\n",
    "NiII_H_SMC = 5.52\n",
    "sigma_NiII_H_SMC = 0.18\n",
    "ZnII_H_SMC = 4.02\n",
    "sigma_ZnII_H_SMC = 0.2\n",
    "CuII_H_SMC = 0\n",
    "sigma_CuII_H_SMC = 0"
   ]
  },
  {
   "cell_type": "code",
   "execution_count": 11,
   "id": "d5cf74cd-a560-4d2b-bca7-7ce3a5f229be",
   "metadata": {},
   "outputs": [],
   "source": [
    "depletion_MgII = MgII_H - MgII_H_SMC\n",
    "sigma_depletion_MgII = sigma_MgII ** 2 + sigma_MgII_H_SMC ** 2\n",
    "depletion_SiII = SiII_H - SiII_H_SMC\n",
    "sigma_depletion_SiII = sigma_SiII ** 2 + sigma_SiII_H_SMC ** 2\n",
    "depletion_PII = PII_H - PII_H_SMC\n",
    "sigma_depletion_PII = sigma_PII ** 2 + sigma_PII_H_SMC ** 2\n",
    "depletion_SII = SII_H - SII_H_SMC\n",
    "sigma_depletion_SII = sigma_SII ** 2 + sigma_SII_H_SMC ** 2\n",
    "depletion_CrII = CrII_H - CrII_H_SMC\n",
    "sigma_depletion_CrII = sigma_CrII ** 2 + sigma_CrII_H_SMC ** 2\n",
    "depletion_FeII = FeII_H - FeII_H_SMC\n",
    "sigma_depletion_FeII = sigma_FeII ** 2 + sigma_FeII_H_SMC ** 2\n",
    "depletion_NiII = NiII_H - NiII_H_SMC\n",
    "sigma_depletion_NiII = sigma_NiII ** 2 + sigma_NiII_H_SMC ** 2\n",
    "depletion_ZnII = ZnII_H - ZnII_H_SMC\n",
    "sigma_depletion_ZnII = sigma_ZnII ** 2 + sigma_ZnII_H_SMC ** 2\n",
    "depletion_CuII = CuII_H - CuII_H_SMC\n",
    "sigma_depletion_CuII = sigma_CuII ** 2 + sigma_CuII_H_SMC ** 2"
   ]
  },
  {
   "cell_type": "code",
   "execution_count": 12,
   "id": "2d7b2fb1-dc0c-4029-a6ef-4b829980ec44",
   "metadata": {},
   "outputs": [],
   "source": [
    "A_MgII = -0.25\n",
    "sigma_A_MgII = 0.26\n",
    "B_MgII = -0.33\n",
    "sigma_B_MgII = 0.03\n",
    "z_MgII = 0.162\n",
    "F_star_MgII = (depletion_MgII - B_MgII) / A_MgII + z_MgII\n",
    "sigma_F_star_MgII = np.sqrt((sigma_depletion_MgII / A_MgII) ** 2 + (sigma_B_MgII / A_MgII) ** 2 + ((depletion_MgII - B_MgII) * sigma_A_MgII / A_MgII ** 2) ** 2)\n",
    "\n",
    "A_SiII = -1.05\n",
    "sigma_A_SiII = 0.09\n",
    "B_SiII = -0.36\n",
    "sigma_B_SiII = 0.02\n",
    "z_SiII = 0.129\n",
    "F_star_SiII = (depletion_SiII - B_SiII) / A_SiII + z_SiII\n",
    "sigma_F_star_SiII = np.sqrt((sigma_depletion_SiII / A_SiII) ** 2 + (sigma_B_SiII / A_SiII) ** 2 + ((depletion_SiII - B_SiII) * sigma_A_SiII / A_SiII ** 2) ** 2)\n",
    "\n",
    "A_PII = -1\n",
    "sigma_A_PII = 0\n",
    "B_PII = -1\n",
    "sigma_B_PII = 0\n",
    "z_PII = 1\n",
    "F_star_PII = (depletion_PII - B_PII) / A_PII + z_PII\n",
    "sigma_F_star_PII  = np.sqrt((sigma_depletion_PII  / A_PII ) ** 2 + (sigma_B_PII  / A_PII ) ** 2 + ((depletion_PII  - B_PII ) * sigma_A_PII  / A_PII  ** 2) ** 2)\n",
    "\n",
    "A_SII = -0.87\n",
    "sigma_A_SII = 0.14\n",
    "B_SII = -0.02\n",
    "sigma_B_SII = 0.04\n",
    "z_SII = 0.106\n",
    "F_star_SII = (depletion_SII - B_SII) / A_SII + z_SII\n",
    "sigma_F_star_SII  = np.sqrt((sigma_depletion_SII  / A_SII ) ** 2 + (sigma_B_SII  / A_SII ) ** 2 + ((depletion_SII  - B_SII ) * sigma_A_SII  / A_SII  ** 2) ** 2)\n",
    "\n",
    "A_CrII = -1.33\n",
    "sigma_A_CrII = 0.16\n",
    "B_CrII = -0.93\n",
    "sigma_B_CrII = 0.02\n",
    "z_CrII = 0.155\n",
    "F_star_CrII = (depletion_CrII - B_CrII) / A_CrII + z_CrII\n",
    "sigma_F_star_CrII = np.sqrt((sigma_depletion_CrII / A_CrII) ** 2 + (sigma_B_CrII / A_CrII) ** 2 + ((depletion_CrII - B_CrII) * sigma_A_CrII / A_CrII ** 2) ** 2)\n",
    "\n",
    "A_FeII = -1.28\n",
    "sigma_A_FeII = 0.07\n",
    "B_FeII = -1.18\n",
    "sigma_B_FeII = 0.02\n",
    "z_FeII = 0.181\n",
    "F_star_FeII = (depletion_FeII - B_FeII) / A_FeII + z_FeII\n",
    "sigma_F_star_FeII = np.sqrt((sigma_depletion_FeII / A_FeII) ** 2 + (sigma_B_FeII / A_FeII) ** 2 + ((depletion_FeII - B_FeII) * sigma_A_FeII / A_FeII ** 2) ** 2)\n",
    "\n",
    "A_NiII = -1.41\n",
    "sigma_A_NiII = 0.14\n",
    "B_NiII = -1.11\n",
    "sigma_B_NiII = 0.02\n",
    "z_NiII = 0.141\n",
    "F_star_NiII = (depletion_NiII - B_NiII) / A_NiII + z_NiII\n",
    "sigma_F_star_NiII = np.sqrt((sigma_depletion_NiII / A_NiII) ** 2 + (sigma_B_NiII / A_NiII) ** 2 + ((depletion_NiII - B_NiII) * sigma_A_NiII / A_NiII ** 2) ** 2)\n",
    "\n",
    "A_ZnII = -0.51\n",
    "sigma_A_ZnII = 0.14\n",
    "B_ZnII = -0.31\n",
    "sigma_B_ZnII = 0.02\n",
    "z_ZnII = 0.168\n",
    "F_star_ZnII = (depletion_ZnII - B_ZnII) / A_ZnII + z_ZnII\n",
    "sigma_F_star_ZnII = np.sqrt((sigma_depletion_ZnII / A_ZnII) ** 2 + (sigma_B_ZnII / A_ZnII) ** 2 + ((depletion_ZnII - B_ZnII) * sigma_A_ZnII / A_ZnII ** 2) ** 2)\n",
    "\n",
    "A_CuII = -1\n",
    "sigma_A_CuII = 0\n",
    "B_CuII = -1\n",
    "sigma_B_CuII = 0\n",
    "z_CuII = 1\n",
    "F_star_CuII = (depletion_CuII - B_CuII) / A_CuII + z_CuII\n",
    "sigma_F_star_CuII = np.sqrt((sigma_depletion_CuII / A_CuII) ** 2 + (sigma_B_CuII / A_CuII) ** 2 + ((depletion_CuII - B_CuII) * sigma_A_CuII / A_CuII ** 2) ** 2)"
   ]
  },
  {
   "cell_type": "code",
   "execution_count": 13,
   "id": "777f4f3e-457d-4e03-8a16-592e4021cf5f",
   "metadata": {},
   "outputs": [
    {
     "data": {
      "image/png": "[encoded data removed]",
      "text/plain": [
       "<Figure size 640x480 with 1 Axes>"
      ]
     },
     "metadata": {},
     "output_type": "display_data"
    }
   ],
   "source": [
    "F_stars = np.array([F_star_MgII, F_star_SiII, F_star_PII, F_star_SII, F_star_CrII, F_star_FeII, F_star_NiII, F_star_ZnII, F_star_CuII])\n",
    "sigma_F_stars = np.array([sigma_F_star_MgII, sigma_F_star_SiII, sigma_F_star_PII, sigma_F_star_SII, sigma_F_star_CrII, sigma_F_star_FeII, sigma_F_star_NiII, sigma_F_star_ZnII, sigma_F_star_CuII])\n",
    "labels = ['MgII', 'SiII', 'PII', 'SII', 'CrII', 'FeII', 'NiII', 'ZnII', 'CuII']\n",
    "\n",
    "x = np.arange(9)\n",
    "\n",
    "plt.errorbar(x, F_stars, fmt = 'o', yerr = sigma_F_stars, color = 'orange')\n",
    "plt.ylim(0, 1)\n",
    "plt.xticks(x, labels)\n",
    "plt.ylabel(r'$F_\\star$')\n",
    "plt.grid()\n",
    "plt.tight_layout()\n",
    "\n",
    "plt.show()"
   ]
  },
  {
   "cell_type": "code",
   "execution_count": 14,
   "id": "bafa94dc-bf75-4982-8453-ad5c48fe949b",
   "metadata": {},
   "outputs": [
    {
     "data": {
      "image/png": "[encoded data removed]",
      "text/plain": [
       "<Figure size 640x480 with 1 Axes>"
      ]
     },
     "metadata": {},
     "output_type": "display_data"
    },
    {
     "name": "stdout",
     "output_type": "stream",
     "text": [
      "0.14118632027837258 0.01136538892323225\n",
      "-0.18728111581100276 0.027382024588440176\n"
     ]
    }
   ],
   "source": [
    "good = ['PII', 'NiII']\n",
    "good_mask = np.isin(labels, good)\n",
    "valid_F_stars = F_stars[good_mask]\n",
    "valid_sigma_F_stars = sigma_F_stars[good_mask]\n",
    "\n",
    "var  = valid_sigma_F_stars ** 2\n",
    "w_FE = 1 / var\n",
    "mu_FE = (w_FE * valid_F_stars).sum() / w_FE.sum()\n",
    "\n",
    "Q  = (w_FE * (valid_F_stars - mu_FE) ** 2).sum()\n",
    "df = len(valid_F_stars) - 1\n",
    "c  = w_FE.sum() - (w_FE ** 2).sum() / w_FE.sum()\n",
    "\n",
    "T_squared = max(0.0, (Q - df) / c)\n",
    "\n",
    "weights = 1 / (var + T_squared)\n",
    "\n",
    "F_star = (weights * valid_F_stars).sum() / weights.sum()\n",
    "sigma_F_star  = np.sqrt(1 / weights.sum())\n",
    "\n",
    "plt.errorbar(x[good_mask], F_stars[good_mask], fmt = 'o', yerr = sigma_F_stars[good_mask], color = 'orange', label = 'Used for F* determination')\n",
    "plt.errorbar(x[~good_mask], F_stars[~good_mask], fmt = 'o', yerr = sigma_F_stars[~good_mask], color = 'red', label = 'Not used for F* determination')\n",
    "\n",
    "plt.fill_between([-1, 10], F_star - sigma_F_star, F_star + sigma_F_star, color = 'skyblue', alpha = 0.5, label = 'overall depletion')\n",
    "plt.axhline(F_star, color = 'skyblue', linestyle = '--')\n",
    "\n",
    "plt.xlim(-0.5, 8.5)\n",
    "plt.ylim(-0.5, 1.5)\n",
    "plt.xticks(x, labels)\n",
    "plt.ylabel(r'$F_\\star$')\n",
    "plt.grid()\n",
    "plt.tight_layout()\n",
    "plt.legend()\n",
    "\n",
    "plt.show()\n",
    "\n",
    "print(F_star, sigma_F_star)\n",
    "print(F_star_FeII, sigma_F_star_FeII)"
   ]
  },
  {
   "cell_type": "code",
   "execution_count": 15,
   "id": "d585f70b-d6c2-48aa-bce9-1d36a6047daa",
   "metadata": {},
   "outputs": [
    {
     "name": "stdout",
     "output_type": "stream",
     "text": [
      "8.598896939714818 +/- 0.10988979871496908\n"
     ]
    }
   ],
   "source": [
    "# All elements parameters\n",
    "A_OI = -2.174\n",
    "sigma_A_OI = 0.883\n",
    "B_OI = 0.518\n",
    "sigma_B_OI = 0.067\n",
    "z_OI = 0.114\n",
    "\n",
    "depletion_OI = B_OI + A_OI * (F_star - z_OI)\n",
    "sigma_depletion_OI = np.sqrt(sigma_B_OI ** 2 + ((F_star - z_OI) * sigma_A_OI) ** 2 + (A_OI * sigma_F_star) ** 2)\n",
    "\n",
    "OI_H_SMC = 8.14 # this is okay cause we are always using photospheric abundances\n",
    "sigma_OI_H_SMC = 0.08\n",
    "\n",
    "OI_H = OI_H_SMC + depletion_OI\n",
    "sigma_OI_H = np.sqrt(sigma_OI_H_SMC ** 2 + sigma_depletion_OI ** 2)\n",
    "\n",
    "print(OI_H, \"+/-\", sigma_OI_H)"
   ]
  },
  {
   "cell_type": "code",
   "execution_count": 16,
   "id": "f1417fea-46c1-4f27-802a-be1e859222f7",
   "metadata": {},
   "outputs": [
    {
     "name": "stdout",
     "output_type": "stream",
     "text": [
      "8.559110146941885 +/- 0.11183490305176189\n"
     ]
    }
   ],
   "source": [
    "# FeII parameters\n",
    "A_OI = -1.502\n",
    "sigma_A_OI = 0.660\n",
    "B_OI = 0.502\n",
    "sigma_B_OI = 0.067\n",
    "z_OI = 0.086\n",
    "\n",
    "depletion_OI = B_OI + A_OI * (F_star - z_OI)\n",
    "sigma_depletion_OI = np.sqrt(sigma_B_OI ** 2 + ((F_star - z_OI) * sigma_A_OI) ** 2 + (A_OI * sigma_F_star) ** 2)\n",
    "\n",
    "OI_H_SMC = 8.14 # this is okay cause we are always using photospheric abundances\n",
    "sigma_OI_H_SMC = 0.08\n",
    "\n",
    "OI_H = OI_H_SMC + depletion_OI\n",
    "sigma_OI_H = np.sqrt(sigma_OI_H_SMC ** 2 + sigma_depletion_OI ** 2)\n",
    "\n",
    "print(OI_H, \"+/-\", sigma_OI_H)"
   ]
  },
  {
   "cell_type": "code",
   "execution_count": 17,
   "id": "090ddc67-1617-4bd8-97b3-df6ea56b0e07",
   "metadata": {},
   "outputs": [],
   "source": [
    "# END"
   ]
  }
 ],
 "metadata": {
  "kernelspec": {
   "display_name": "Python 3 (ipykernel)",
   "language": "python",
   "name": "python3"
  },
  "language_info": {
   "codemirror_mode": {
    "name": "ipython",
    "version": 3
   },
   "file_extension": ".py",
   "mimetype": "text/x-python",
   "name": "python",
   "nbconvert_exporter": "python",
   "pygments_lexer": "ipython3",
   "version": "3.13.3"
  }
 },
 "nbformat": 4,
 "nbformat_minor": 5
}
